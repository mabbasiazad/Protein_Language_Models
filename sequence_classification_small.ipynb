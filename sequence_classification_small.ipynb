{
  "nbformat": 4,
  "nbformat_minor": 0,
  "metadata": {
    "colab": {
      "provenance": [],
      "gpuType": "T4"
    },
    "kernelspec": {
      "name": "python3",
      "display_name": "Python 3"
    },
    "language_info": {
      "name": "python"
    },
    "accelerator": "GPU",
    "widgets": {
      "application/vnd.jupyter.widget-state+json": {
        "9de1df0cd3e04035ab3f0360903f82e1": {
          "model_module": "@jupyter-widgets/controls",
          "model_name": "HBoxModel",
          "model_module_version": "1.5.0",
          "state": {
            "_dom_classes": [],
            "_model_module": "@jupyter-widgets/controls",
            "_model_module_version": "1.5.0",
            "_model_name": "HBoxModel",
            "_view_count": null,
            "_view_module": "@jupyter-widgets/controls",
            "_view_module_version": "1.5.0",
            "_view_name": "HBoxView",
            "box_style": "",
            "children": [
              "IPY_MODEL_5831c83867564c0eb21e7c03f0a638ad",
              "IPY_MODEL_bd19f07eb95341c58e55452b99961459",
              "IPY_MODEL_edcaeecd6bcf438aaee03bc4042580b6"
            ],
            "layout": "IPY_MODEL_837f76cc19864843bd8e878d4301fbbd"
          }
        },
        "5831c83867564c0eb21e7c03f0a638ad": {
          "model_module": "@jupyter-widgets/controls",
          "model_name": "HTMLModel",
          "model_module_version": "1.5.0",
          "state": {
            "_dom_classes": [],
            "_model_module": "@jupyter-widgets/controls",
            "_model_module_version": "1.5.0",
            "_model_name": "HTMLModel",
            "_view_count": null,
            "_view_module": "@jupyter-widgets/controls",
            "_view_module_version": "1.5.0",
            "_view_name": "HTMLView",
            "description": "",
            "description_tooltip": null,
            "layout": "IPY_MODEL_7f45bc46965b4b8e9886fbac10b8bd61",
            "placeholder": "​",
            "style": "IPY_MODEL_8715b14f65614af6af0607851d7e3eb1",
            "value": "Map: 100%"
          }
        },
        "bd19f07eb95341c58e55452b99961459": {
          "model_module": "@jupyter-widgets/controls",
          "model_name": "FloatProgressModel",
          "model_module_version": "1.5.0",
          "state": {
            "_dom_classes": [],
            "_model_module": "@jupyter-widgets/controls",
            "_model_module_version": "1.5.0",
            "_model_name": "FloatProgressModel",
            "_view_count": null,
            "_view_module": "@jupyter-widgets/controls",
            "_view_module_version": "1.5.0",
            "_view_name": "ProgressView",
            "bar_style": "success",
            "description": "",
            "description_tooltip": null,
            "layout": "IPY_MODEL_0e93c00135094be49eb89eb66305c270",
            "max": 180,
            "min": 0,
            "orientation": "horizontal",
            "style": "IPY_MODEL_3b10a3a49e654821973a274e9fb9da86",
            "value": 180
          }
        },
        "edcaeecd6bcf438aaee03bc4042580b6": {
          "model_module": "@jupyter-widgets/controls",
          "model_name": "HTMLModel",
          "model_module_version": "1.5.0",
          "state": {
            "_dom_classes": [],
            "_model_module": "@jupyter-widgets/controls",
            "_model_module_version": "1.5.0",
            "_model_name": "HTMLModel",
            "_view_count": null,
            "_view_module": "@jupyter-widgets/controls",
            "_view_module_version": "1.5.0",
            "_view_name": "HTMLView",
            "description": "",
            "description_tooltip": null,
            "layout": "IPY_MODEL_9ea207dd146e47fcbc372e2665bdf1c9",
            "placeholder": "​",
            "style": "IPY_MODEL_69525d126e6a4ed7bcf6ed65030b1b3c",
            "value": " 180/180 [00:00&lt;00:00, 1374.48 examples/s]"
          }
        },
        "837f76cc19864843bd8e878d4301fbbd": {
          "model_module": "@jupyter-widgets/base",
          "model_name": "LayoutModel",
          "model_module_version": "1.2.0",
          "state": {
            "_model_module": "@jupyter-widgets/base",
            "_model_module_version": "1.2.0",
            "_model_name": "LayoutModel",
            "_view_count": null,
            "_view_module": "@jupyter-widgets/base",
            "_view_module_version": "1.2.0",
            "_view_name": "LayoutView",
            "align_content": null,
            "align_items": null,
            "align_self": null,
            "border": null,
            "bottom": null,
            "display": null,
            "flex": null,
            "flex_flow": null,
            "grid_area": null,
            "grid_auto_columns": null,
            "grid_auto_flow": null,
            "grid_auto_rows": null,
            "grid_column": null,
            "grid_gap": null,
            "grid_row": null,
            "grid_template_areas": null,
            "grid_template_columns": null,
            "grid_template_rows": null,
            "height": null,
            "justify_content": null,
            "justify_items": null,
            "left": null,
            "margin": null,
            "max_height": null,
            "max_width": null,
            "min_height": null,
            "min_width": null,
            "object_fit": null,
            "object_position": null,
            "order": null,
            "overflow": null,
            "overflow_x": null,
            "overflow_y": null,
            "padding": null,
            "right": null,
            "top": null,
            "visibility": null,
            "width": null
          }
        },
        "7f45bc46965b4b8e9886fbac10b8bd61": {
          "model_module": "@jupyter-widgets/base",
          "model_name": "LayoutModel",
          "model_module_version": "1.2.0",
          "state": {
            "_model_module": "@jupyter-widgets/base",
            "_model_module_version": "1.2.0",
            "_model_name": "LayoutModel",
            "_view_count": null,
            "_view_module": "@jupyter-widgets/base",
            "_view_module_version": "1.2.0",
            "_view_name": "LayoutView",
            "align_content": null,
            "align_items": null,
            "align_self": null,
            "border": null,
            "bottom": null,
            "display": null,
            "flex": null,
            "flex_flow": null,
            "grid_area": null,
            "grid_auto_columns": null,
            "grid_auto_flow": null,
            "grid_auto_rows": null,
            "grid_column": null,
            "grid_gap": null,
            "grid_row": null,
            "grid_template_areas": null,
            "grid_template_columns": null,
            "grid_template_rows": null,
            "height": null,
            "justify_content": null,
            "justify_items": null,
            "left": null,
            "margin": null,
            "max_height": null,
            "max_width": null,
            "min_height": null,
            "min_width": null,
            "object_fit": null,
            "object_position": null,
            "order": null,
            "overflow": null,
            "overflow_x": null,
            "overflow_y": null,
            "padding": null,
            "right": null,
            "top": null,
            "visibility": null,
            "width": null
          }
        },
        "8715b14f65614af6af0607851d7e3eb1": {
          "model_module": "@jupyter-widgets/controls",
          "model_name": "DescriptionStyleModel",
          "model_module_version": "1.5.0",
          "state": {
            "_model_module": "@jupyter-widgets/controls",
            "_model_module_version": "1.5.0",
            "_model_name": "DescriptionStyleModel",
            "_view_count": null,
            "_view_module": "@jupyter-widgets/base",
            "_view_module_version": "1.2.0",
            "_view_name": "StyleView",
            "description_width": ""
          }
        },
        "0e93c00135094be49eb89eb66305c270": {
          "model_module": "@jupyter-widgets/base",
          "model_name": "LayoutModel",
          "model_module_version": "1.2.0",
          "state": {
            "_model_module": "@jupyter-widgets/base",
            "_model_module_version": "1.2.0",
            "_model_name": "LayoutModel",
            "_view_count": null,
            "_view_module": "@jupyter-widgets/base",
            "_view_module_version": "1.2.0",
            "_view_name": "LayoutView",
            "align_content": null,
            "align_items": null,
            "align_self": null,
            "border": null,
            "bottom": null,
            "display": null,
            "flex": null,
            "flex_flow": null,
            "grid_area": null,
            "grid_auto_columns": null,
            "grid_auto_flow": null,
            "grid_auto_rows": null,
            "grid_column": null,
            "grid_gap": null,
            "grid_row": null,
            "grid_template_areas": null,
            "grid_template_columns": null,
            "grid_template_rows": null,
            "height": null,
            "justify_content": null,
            "justify_items": null,
            "left": null,
            "margin": null,
            "max_height": null,
            "max_width": null,
            "min_height": null,
            "min_width": null,
            "object_fit": null,
            "object_position": null,
            "order": null,
            "overflow": null,
            "overflow_x": null,
            "overflow_y": null,
            "padding": null,
            "right": null,
            "top": null,
            "visibility": null,
            "width": null
          }
        },
        "3b10a3a49e654821973a274e9fb9da86": {
          "model_module": "@jupyter-widgets/controls",
          "model_name": "ProgressStyleModel",
          "model_module_version": "1.5.0",
          "state": {
            "_model_module": "@jupyter-widgets/controls",
            "_model_module_version": "1.5.0",
            "_model_name": "ProgressStyleModel",
            "_view_count": null,
            "_view_module": "@jupyter-widgets/base",
            "_view_module_version": "1.2.0",
            "_view_name": "StyleView",
            "bar_color": null,
            "description_width": ""
          }
        },
        "9ea207dd146e47fcbc372e2665bdf1c9": {
          "model_module": "@jupyter-widgets/base",
          "model_name": "LayoutModel",
          "model_module_version": "1.2.0",
          "state": {
            "_model_module": "@jupyter-widgets/base",
            "_model_module_version": "1.2.0",
            "_model_name": "LayoutModel",
            "_view_count": null,
            "_view_module": "@jupyter-widgets/base",
            "_view_module_version": "1.2.0",
            "_view_name": "LayoutView",
            "align_content": null,
            "align_items": null,
            "align_self": null,
            "border": null,
            "bottom": null,
            "display": null,
            "flex": null,
            "flex_flow": null,
            "grid_area": null,
            "grid_auto_columns": null,
            "grid_auto_flow": null,
            "grid_auto_rows": null,
            "grid_column": null,
            "grid_gap": null,
            "grid_row": null,
            "grid_template_areas": null,
            "grid_template_columns": null,
            "grid_template_rows": null,
            "height": null,
            "justify_content": null,
            "justify_items": null,
            "left": null,
            "margin": null,
            "max_height": null,
            "max_width": null,
            "min_height": null,
            "min_width": null,
            "object_fit": null,
            "object_position": null,
            "order": null,
            "overflow": null,
            "overflow_x": null,
            "overflow_y": null,
            "padding": null,
            "right": null,
            "top": null,
            "visibility": null,
            "width": null
          }
        },
        "69525d126e6a4ed7bcf6ed65030b1b3c": {
          "model_module": "@jupyter-widgets/controls",
          "model_name": "DescriptionStyleModel",
          "model_module_version": "1.5.0",
          "state": {
            "_model_module": "@jupyter-widgets/controls",
            "_model_module_version": "1.5.0",
            "_model_name": "DescriptionStyleModel",
            "_view_count": null,
            "_view_module": "@jupyter-widgets/base",
            "_view_module_version": "1.2.0",
            "_view_name": "StyleView",
            "description_width": ""
          }
        },
        "c70e8f0b83944feca5d6348c0837838b": {
          "model_module": "@jupyter-widgets/controls",
          "model_name": "HBoxModel",
          "model_module_version": "1.5.0",
          "state": {
            "_dom_classes": [],
            "_model_module": "@jupyter-widgets/controls",
            "_model_module_version": "1.5.0",
            "_model_name": "HBoxModel",
            "_view_count": null,
            "_view_module": "@jupyter-widgets/controls",
            "_view_module_version": "1.5.0",
            "_view_name": "HBoxView",
            "box_style": "",
            "children": [
              "IPY_MODEL_4c429c3743f8466095bbc10f85c58c96",
              "IPY_MODEL_7760e12e451b41b888b1bd24e5875c35",
              "IPY_MODEL_e761cf9c1f6143e6b5f9da0923054586"
            ],
            "layout": "IPY_MODEL_4c1153cf58ed44a2b278b078ee09d54f"
          }
        },
        "4c429c3743f8466095bbc10f85c58c96": {
          "model_module": "@jupyter-widgets/controls",
          "model_name": "HTMLModel",
          "model_module_version": "1.5.0",
          "state": {
            "_dom_classes": [],
            "_model_module": "@jupyter-widgets/controls",
            "_model_module_version": "1.5.0",
            "_model_name": "HTMLModel",
            "_view_count": null,
            "_view_module": "@jupyter-widgets/controls",
            "_view_module_version": "1.5.0",
            "_view_name": "HTMLView",
            "description": "",
            "description_tooltip": null,
            "layout": "IPY_MODEL_41463492cdc24207b20090ae658a5dee",
            "placeholder": "​",
            "style": "IPY_MODEL_9cce3a2cbf1a4d59bc045a60b9d258e8",
            "value": "Map: 100%"
          }
        },
        "7760e12e451b41b888b1bd24e5875c35": {
          "model_module": "@jupyter-widgets/controls",
          "model_name": "FloatProgressModel",
          "model_module_version": "1.5.0",
          "state": {
            "_dom_classes": [],
            "_model_module": "@jupyter-widgets/controls",
            "_model_module_version": "1.5.0",
            "_model_name": "FloatProgressModel",
            "_view_count": null,
            "_view_module": "@jupyter-widgets/controls",
            "_view_module_version": "1.5.0",
            "_view_name": "ProgressView",
            "bar_style": "success",
            "description": "",
            "description_tooltip": null,
            "layout": "IPY_MODEL_acd6665001c34a389163e1e2b5c0f9f5",
            "max": 30,
            "min": 0,
            "orientation": "horizontal",
            "style": "IPY_MODEL_3843e055290346b2b6644438e300bc2c",
            "value": 30
          }
        },
        "e761cf9c1f6143e6b5f9da0923054586": {
          "model_module": "@jupyter-widgets/controls",
          "model_name": "HTMLModel",
          "model_module_version": "1.5.0",
          "state": {
            "_dom_classes": [],
            "_model_module": "@jupyter-widgets/controls",
            "_model_module_version": "1.5.0",
            "_model_name": "HTMLModel",
            "_view_count": null,
            "_view_module": "@jupyter-widgets/controls",
            "_view_module_version": "1.5.0",
            "_view_name": "HTMLView",
            "description": "",
            "description_tooltip": null,
            "layout": "IPY_MODEL_597f5dbb81ed4920b6beecfa74793377",
            "placeholder": "​",
            "style": "IPY_MODEL_a22e97f065c24df7b12fc6372f59028a",
            "value": " 30/30 [00:00&lt;00:00, 968.85 examples/s]"
          }
        },
        "4c1153cf58ed44a2b278b078ee09d54f": {
          "model_module": "@jupyter-widgets/base",
          "model_name": "LayoutModel",
          "model_module_version": "1.2.0",
          "state": {
            "_model_module": "@jupyter-widgets/base",
            "_model_module_version": "1.2.0",
            "_model_name": "LayoutModel",
            "_view_count": null,
            "_view_module": "@jupyter-widgets/base",
            "_view_module_version": "1.2.0",
            "_view_name": "LayoutView",
            "align_content": null,
            "align_items": null,
            "align_self": null,
            "border": null,
            "bottom": null,
            "display": null,
            "flex": null,
            "flex_flow": null,
            "grid_area": null,
            "grid_auto_columns": null,
            "grid_auto_flow": null,
            "grid_auto_rows": null,
            "grid_column": null,
            "grid_gap": null,
            "grid_row": null,
            "grid_template_areas": null,
            "grid_template_columns": null,
            "grid_template_rows": null,
            "height": null,
            "justify_content": null,
            "justify_items": null,
            "left": null,
            "margin": null,
            "max_height": null,
            "max_width": null,
            "min_height": null,
            "min_width": null,
            "object_fit": null,
            "object_position": null,
            "order": null,
            "overflow": null,
            "overflow_x": null,
            "overflow_y": null,
            "padding": null,
            "right": null,
            "top": null,
            "visibility": null,
            "width": null
          }
        },
        "41463492cdc24207b20090ae658a5dee": {
          "model_module": "@jupyter-widgets/base",
          "model_name": "LayoutModel",
          "model_module_version": "1.2.0",
          "state": {
            "_model_module": "@jupyter-widgets/base",
            "_model_module_version": "1.2.0",
            "_model_name": "LayoutModel",
            "_view_count": null,
            "_view_module": "@jupyter-widgets/base",
            "_view_module_version": "1.2.0",
            "_view_name": "LayoutView",
            "align_content": null,
            "align_items": null,
            "align_self": null,
            "border": null,
            "bottom": null,
            "display": null,
            "flex": null,
            "flex_flow": null,
            "grid_area": null,
            "grid_auto_columns": null,
            "grid_auto_flow": null,
            "grid_auto_rows": null,
            "grid_column": null,
            "grid_gap": null,
            "grid_row": null,
            "grid_template_areas": null,
            "grid_template_columns": null,
            "grid_template_rows": null,
            "height": null,
            "justify_content": null,
            "justify_items": null,
            "left": null,
            "margin": null,
            "max_height": null,
            "max_width": null,
            "min_height": null,
            "min_width": null,
            "object_fit": null,
            "object_position": null,
            "order": null,
            "overflow": null,
            "overflow_x": null,
            "overflow_y": null,
            "padding": null,
            "right": null,
            "top": null,
            "visibility": null,
            "width": null
          }
        },
        "9cce3a2cbf1a4d59bc045a60b9d258e8": {
          "model_module": "@jupyter-widgets/controls",
          "model_name": "DescriptionStyleModel",
          "model_module_version": "1.5.0",
          "state": {
            "_model_module": "@jupyter-widgets/controls",
            "_model_module_version": "1.5.0",
            "_model_name": "DescriptionStyleModel",
            "_view_count": null,
            "_view_module": "@jupyter-widgets/base",
            "_view_module_version": "1.2.0",
            "_view_name": "StyleView",
            "description_width": ""
          }
        },
        "acd6665001c34a389163e1e2b5c0f9f5": {
          "model_module": "@jupyter-widgets/base",
          "model_name": "LayoutModel",
          "model_module_version": "1.2.0",
          "state": {
            "_model_module": "@jupyter-widgets/base",
            "_model_module_version": "1.2.0",
            "_model_name": "LayoutModel",
            "_view_count": null,
            "_view_module": "@jupyter-widgets/base",
            "_view_module_version": "1.2.0",
            "_view_name": "LayoutView",
            "align_content": null,
            "align_items": null,
            "align_self": null,
            "border": null,
            "bottom": null,
            "display": null,
            "flex": null,
            "flex_flow": null,
            "grid_area": null,
            "grid_auto_columns": null,
            "grid_auto_flow": null,
            "grid_auto_rows": null,
            "grid_column": null,
            "grid_gap": null,
            "grid_row": null,
            "grid_template_areas": null,
            "grid_template_columns": null,
            "grid_template_rows": null,
            "height": null,
            "justify_content": null,
            "justify_items": null,
            "left": null,
            "margin": null,
            "max_height": null,
            "max_width": null,
            "min_height": null,
            "min_width": null,
            "object_fit": null,
            "object_position": null,
            "order": null,
            "overflow": null,
            "overflow_x": null,
            "overflow_y": null,
            "padding": null,
            "right": null,
            "top": null,
            "visibility": null,
            "width": null
          }
        },
        "3843e055290346b2b6644438e300bc2c": {
          "model_module": "@jupyter-widgets/controls",
          "model_name": "ProgressStyleModel",
          "model_module_version": "1.5.0",
          "state": {
            "_model_module": "@jupyter-widgets/controls",
            "_model_module_version": "1.5.0",
            "_model_name": "ProgressStyleModel",
            "_view_count": null,
            "_view_module": "@jupyter-widgets/base",
            "_view_module_version": "1.2.0",
            "_view_name": "StyleView",
            "bar_color": null,
            "description_width": ""
          }
        },
        "597f5dbb81ed4920b6beecfa74793377": {
          "model_module": "@jupyter-widgets/base",
          "model_name": "LayoutModel",
          "model_module_version": "1.2.0",
          "state": {
            "_model_module": "@jupyter-widgets/base",
            "_model_module_version": "1.2.0",
            "_model_name": "LayoutModel",
            "_view_count": null,
            "_view_module": "@jupyter-widgets/base",
            "_view_module_version": "1.2.0",
            "_view_name": "LayoutView",
            "align_content": null,
            "align_items": null,
            "align_self": null,
            "border": null,
            "bottom": null,
            "display": null,
            "flex": null,
            "flex_flow": null,
            "grid_area": null,
            "grid_auto_columns": null,
            "grid_auto_flow": null,
            "grid_auto_rows": null,
            "grid_column": null,
            "grid_gap": null,
            "grid_row": null,
            "grid_template_areas": null,
            "grid_template_columns": null,
            "grid_template_rows": null,
            "height": null,
            "justify_content": null,
            "justify_items": null,
            "left": null,
            "margin": null,
            "max_height": null,
            "max_width": null,
            "min_height": null,
            "min_width": null,
            "object_fit": null,
            "object_position": null,
            "order": null,
            "overflow": null,
            "overflow_x": null,
            "overflow_y": null,
            "padding": null,
            "right": null,
            "top": null,
            "visibility": null,
            "width": null
          }
        },
        "a22e97f065c24df7b12fc6372f59028a": {
          "model_module": "@jupyter-widgets/controls",
          "model_name": "DescriptionStyleModel",
          "model_module_version": "1.5.0",
          "state": {
            "_model_module": "@jupyter-widgets/controls",
            "_model_module_version": "1.5.0",
            "_model_name": "DescriptionStyleModel",
            "_view_count": null,
            "_view_module": "@jupyter-widgets/base",
            "_view_module_version": "1.2.0",
            "_view_name": "StyleView",
            "description_width": ""
          }
        }
      }
    }
  },
  "cells": [
    {
      "cell_type": "markdown",
      "source": [
        " ### Sequence Classifier\n",
        "\n",
        " Finetunes the ESM2 to builds a basic protein sequence classifier with three labels for enzymes, receptor proteins, and structural proteins."
      ],
      "metadata": {
        "id": "9u7S_a_K25gn"
      }
    },
    {
      "cell_type": "code",
      "source": [
        "!pip install datasets\n",
        "!pip install --upgrade pip\n",
        "!pip install transformers[torch]\n",
        "!pip install accelerate -U"
      ],
      "metadata": {
        "colab": {
          "base_uri": "https://localhost:8080/"
        },
        "id": "IArlKm2O6Qn4",
        "outputId": "44c705c5-c622-42c1-cafb-dbcc76e1044f"
      },
      "execution_count": null,
      "outputs": [
        {
          "output_type": "stream",
          "name": "stdout",
          "text": [
            "Requirement already satisfied: datasets in /usr/local/lib/python3.10/dist-packages (2.20.0)\n",
            "Requirement already satisfied: filelock in /usr/local/lib/python3.10/dist-packages (from datasets) (3.15.4)\n",
            "Requirement already satisfied: numpy>=1.17 in /usr/local/lib/python3.10/dist-packages (from datasets) (1.25.2)\n",
            "Requirement already satisfied: pyarrow>=15.0.0 in /usr/local/lib/python3.10/dist-packages (from datasets) (17.0.0)\n",
            "Requirement already satisfied: pyarrow-hotfix in /usr/local/lib/python3.10/dist-packages (from datasets) (0.6)\n",
            "Requirement already satisfied: dill<0.3.9,>=0.3.0 in /usr/local/lib/python3.10/dist-packages (from datasets) (0.3.8)\n",
            "Requirement already satisfied: pandas in /usr/local/lib/python3.10/dist-packages (from datasets) (2.0.3)\n",
            "Requirement already satisfied: requests>=2.32.2 in /usr/local/lib/python3.10/dist-packages (from datasets) (2.32.3)\n",
            "Requirement already satisfied: tqdm>=4.66.3 in /usr/local/lib/python3.10/dist-packages (from datasets) (4.66.4)\n",
            "Requirement already satisfied: xxhash in /usr/local/lib/python3.10/dist-packages (from datasets) (3.4.1)\n",
            "Requirement already satisfied: multiprocess in /usr/local/lib/python3.10/dist-packages (from datasets) (0.70.16)\n",
            "Requirement already satisfied: fsspec<=2024.5.0,>=2023.1.0 in /usr/local/lib/python3.10/dist-packages (from fsspec[http]<=2024.5.0,>=2023.1.0->datasets) (2023.6.0)\n",
            "Requirement already satisfied: aiohttp in /usr/local/lib/python3.10/dist-packages (from datasets) (3.9.5)\n",
            "Requirement already satisfied: huggingface-hub>=0.21.2 in /usr/local/lib/python3.10/dist-packages (from datasets) (0.23.4)\n",
            "Requirement already satisfied: packaging in /usr/local/lib/python3.10/dist-packages (from datasets) (24.1)\n",
            "Requirement already satisfied: pyyaml>=5.1 in /usr/local/lib/python3.10/dist-packages (from datasets) (6.0.1)\n",
            "Requirement already satisfied: aiosignal>=1.1.2 in /usr/local/lib/python3.10/dist-packages (from aiohttp->datasets) (1.3.1)\n",
            "Requirement already satisfied: attrs>=17.3.0 in /usr/local/lib/python3.10/dist-packages (from aiohttp->datasets) (23.2.0)\n",
            "Requirement already satisfied: frozenlist>=1.1.1 in /usr/local/lib/python3.10/dist-packages (from aiohttp->datasets) (1.4.1)\n",
            "Requirement already satisfied: multidict<7.0,>=4.5 in /usr/local/lib/python3.10/dist-packages (from aiohttp->datasets) (6.0.5)\n",
            "Requirement already satisfied: yarl<2.0,>=1.0 in /usr/local/lib/python3.10/dist-packages (from aiohttp->datasets) (1.9.4)\n",
            "Requirement already satisfied: async-timeout<5.0,>=4.0 in /usr/local/lib/python3.10/dist-packages (from aiohttp->datasets) (4.0.3)\n",
            "Requirement already satisfied: typing-extensions>=3.7.4.3 in /usr/local/lib/python3.10/dist-packages (from huggingface-hub>=0.21.2->datasets) (4.12.2)\n",
            "Requirement already satisfied: charset-normalizer<4,>=2 in /usr/local/lib/python3.10/dist-packages (from requests>=2.32.2->datasets) (3.3.2)\n",
            "Requirement already satisfied: idna<4,>=2.5 in /usr/local/lib/python3.10/dist-packages (from requests>=2.32.2->datasets) (3.7)\n",
            "Requirement already satisfied: urllib3<3,>=1.21.1 in /usr/local/lib/python3.10/dist-packages (from requests>=2.32.2->datasets) (2.0.7)\n",
            "Requirement already satisfied: certifi>=2017.4.17 in /usr/local/lib/python3.10/dist-packages (from requests>=2.32.2->datasets) (2024.7.4)\n",
            "Requirement already satisfied: python-dateutil>=2.8.2 in /usr/local/lib/python3.10/dist-packages (from pandas->datasets) (2.8.2)\n",
            "Requirement already satisfied: pytz>=2020.1 in /usr/local/lib/python3.10/dist-packages (from pandas->datasets) (2023.4)\n",
            "Requirement already satisfied: tzdata>=2022.1 in /usr/local/lib/python3.10/dist-packages (from pandas->datasets) (2024.1)\n",
            "Requirement already satisfied: six>=1.5 in /usr/local/lib/python3.10/dist-packages (from python-dateutil>=2.8.2->pandas->datasets) (1.16.0)\n",
            "\u001b[33mWARNING: Running pip as the 'root' user can result in broken permissions and conflicting behaviour with the system package manager, possibly rendering your system unusable.It is recommended to use a virtual environment instead: https://pip.pypa.io/warnings/venv. Use the --root-user-action option if you know what you are doing and want to suppress this warning.\u001b[0m\u001b[33m\n",
            "\u001b[0mRequirement already satisfied: pip in /usr/local/lib/python3.10/dist-packages (24.1.2)\n",
            "\u001b[33mWARNING: Running pip as the 'root' user can result in broken permissions and conflicting behaviour with the system package manager, possibly rendering your system unusable.It is recommended to use a virtual environment instead: https://pip.pypa.io/warnings/venv. Use the --root-user-action option if you know what you are doing and want to suppress this warning.\u001b[0m\u001b[33m\n",
            "\u001b[0mRequirement already satisfied: transformers[torch] in /usr/local/lib/python3.10/dist-packages (4.41.2)\n",
            "Requirement already satisfied: filelock in /usr/local/lib/python3.10/dist-packages (from transformers[torch]) (3.15.4)\n",
            "Requirement already satisfied: huggingface-hub<1.0,>=0.23.0 in /usr/local/lib/python3.10/dist-packages (from transformers[torch]) (0.23.4)\n",
            "Requirement already satisfied: numpy>=1.17 in /usr/local/lib/python3.10/dist-packages (from transformers[torch]) (1.25.2)\n",
            "Requirement already satisfied: packaging>=20.0 in /usr/local/lib/python3.10/dist-packages (from transformers[torch]) (24.1)\n",
            "Requirement already satisfied: pyyaml>=5.1 in /usr/local/lib/python3.10/dist-packages (from transformers[torch]) (6.0.1)\n",
            "Requirement already satisfied: regex!=2019.12.17 in /usr/local/lib/python3.10/dist-packages (from transformers[torch]) (2024.5.15)\n",
            "Requirement already satisfied: requests in /usr/local/lib/python3.10/dist-packages (from transformers[torch]) (2.32.3)\n",
            "Requirement already satisfied: tokenizers<0.20,>=0.19 in /usr/local/lib/python3.10/dist-packages (from transformers[torch]) (0.19.1)\n",
            "Requirement already satisfied: safetensors>=0.4.1 in /usr/local/lib/python3.10/dist-packages (from transformers[torch]) (0.4.3)\n",
            "Requirement already satisfied: tqdm>=4.27 in /usr/local/lib/python3.10/dist-packages (from transformers[torch]) (4.66.4)\n",
            "Requirement already satisfied: torch in /usr/local/lib/python3.10/dist-packages (from transformers[torch]) (2.3.0+cu121)\n",
            "Requirement already satisfied: accelerate>=0.21.0 in /usr/local/lib/python3.10/dist-packages (from transformers[torch]) (0.32.1)\n",
            "Requirement already satisfied: psutil in /usr/local/lib/python3.10/dist-packages (from accelerate>=0.21.0->transformers[torch]) (5.9.5)\n",
            "Requirement already satisfied: fsspec>=2023.5.0 in /usr/local/lib/python3.10/dist-packages (from huggingface-hub<1.0,>=0.23.0->transformers[torch]) (2023.6.0)\n",
            "Requirement already satisfied: typing-extensions>=3.7.4.3 in /usr/local/lib/python3.10/dist-packages (from huggingface-hub<1.0,>=0.23.0->transformers[torch]) (4.12.2)\n",
            "Requirement already satisfied: sympy in /usr/local/lib/python3.10/dist-packages (from torch->transformers[torch]) (1.13.0)\n",
            "Requirement already satisfied: networkx in /usr/local/lib/python3.10/dist-packages (from torch->transformers[torch]) (3.3)\n",
            "Requirement already satisfied: jinja2 in /usr/local/lib/python3.10/dist-packages (from torch->transformers[torch]) (3.1.4)\n",
            "Requirement already satisfied: nvidia-cuda-nvrtc-cu12==12.1.105 in /usr/local/lib/python3.10/dist-packages (from torch->transformers[torch]) (12.1.105)\n",
            "Requirement already satisfied: nvidia-cuda-runtime-cu12==12.1.105 in /usr/local/lib/python3.10/dist-packages (from torch->transformers[torch]) (12.1.105)\n",
            "Requirement already satisfied: nvidia-cuda-cupti-cu12==12.1.105 in /usr/local/lib/python3.10/dist-packages (from torch->transformers[torch]) (12.1.105)\n",
            "Requirement already satisfied: nvidia-cudnn-cu12==8.9.2.26 in /usr/local/lib/python3.10/dist-packages (from torch->transformers[torch]) (8.9.2.26)\n",
            "Requirement already satisfied: nvidia-cublas-cu12==12.1.3.1 in /usr/local/lib/python3.10/dist-packages (from torch->transformers[torch]) (12.1.3.1)\n",
            "Requirement already satisfied: nvidia-cufft-cu12==11.0.2.54 in /usr/local/lib/python3.10/dist-packages (from torch->transformers[torch]) (11.0.2.54)\n",
            "Requirement already satisfied: nvidia-curand-cu12==10.3.2.106 in /usr/local/lib/python3.10/dist-packages (from torch->transformers[torch]) (10.3.2.106)\n",
            "Requirement already satisfied: nvidia-cusolver-cu12==11.4.5.107 in /usr/local/lib/python3.10/dist-packages (from torch->transformers[torch]) (11.4.5.107)\n",
            "Requirement already satisfied: nvidia-cusparse-cu12==12.1.0.106 in /usr/local/lib/python3.10/dist-packages (from torch->transformers[torch]) (12.1.0.106)\n",
            "Requirement already satisfied: nvidia-nccl-cu12==2.20.5 in /usr/local/lib/python3.10/dist-packages (from torch->transformers[torch]) (2.20.5)\n",
            "Requirement already satisfied: nvidia-nvtx-cu12==12.1.105 in /usr/local/lib/python3.10/dist-packages (from torch->transformers[torch]) (12.1.105)\n",
            "Requirement already satisfied: triton==2.3.0 in /usr/local/lib/python3.10/dist-packages (from torch->transformers[torch]) (2.3.0)\n",
            "Requirement already satisfied: nvidia-nvjitlink-cu12 in /usr/local/lib/python3.10/dist-packages (from nvidia-cusolver-cu12==11.4.5.107->torch->transformers[torch]) (12.5.82)\n",
            "Requirement already satisfied: charset-normalizer<4,>=2 in /usr/local/lib/python3.10/dist-packages (from requests->transformers[torch]) (3.3.2)\n",
            "Requirement already satisfied: idna<4,>=2.5 in /usr/local/lib/python3.10/dist-packages (from requests->transformers[torch]) (3.7)\n",
            "Requirement already satisfied: urllib3<3,>=1.21.1 in /usr/local/lib/python3.10/dist-packages (from requests->transformers[torch]) (2.0.7)\n",
            "Requirement already satisfied: certifi>=2017.4.17 in /usr/local/lib/python3.10/dist-packages (from requests->transformers[torch]) (2024.7.4)\n",
            "Requirement already satisfied: MarkupSafe>=2.0 in /usr/local/lib/python3.10/dist-packages (from jinja2->torch->transformers[torch]) (2.1.5)\n",
            "Requirement already satisfied: mpmath<1.4,>=1.1.0 in /usr/local/lib/python3.10/dist-packages (from sympy->torch->transformers[torch]) (1.3.0)\n",
            "\u001b[33mWARNING: Running pip as the 'root' user can result in broken permissions and conflicting behaviour with the system package manager, possibly rendering your system unusable.It is recommended to use a virtual environment instead: https://pip.pypa.io/warnings/venv. Use the --root-user-action option if you know what you are doing and want to suppress this warning.\u001b[0m\u001b[33m\n",
            "\u001b[0mRequirement already satisfied: accelerate in /usr/local/lib/python3.10/dist-packages (0.32.1)\n",
            "Requirement already satisfied: numpy<2.0.0,>=1.17 in /usr/local/lib/python3.10/dist-packages (from accelerate) (1.25.2)\n",
            "Requirement already satisfied: packaging>=20.0 in /usr/local/lib/python3.10/dist-packages (from accelerate) (24.1)\n",
            "Requirement already satisfied: psutil in /usr/local/lib/python3.10/dist-packages (from accelerate) (5.9.5)\n",
            "Requirement already satisfied: pyyaml in /usr/local/lib/python3.10/dist-packages (from accelerate) (6.0.1)\n",
            "Requirement already satisfied: torch>=1.10.0 in /usr/local/lib/python3.10/dist-packages (from accelerate) (2.3.0+cu121)\n",
            "Requirement already satisfied: huggingface-hub in /usr/local/lib/python3.10/dist-packages (from accelerate) (0.23.4)\n",
            "Requirement already satisfied: safetensors>=0.3.1 in /usr/local/lib/python3.10/dist-packages (from accelerate) (0.4.3)\n",
            "Requirement already satisfied: filelock in /usr/local/lib/python3.10/dist-packages (from torch>=1.10.0->accelerate) (3.15.4)\n",
            "Requirement already satisfied: typing-extensions>=4.8.0 in /usr/local/lib/python3.10/dist-packages (from torch>=1.10.0->accelerate) (4.12.2)\n",
            "Requirement already satisfied: sympy in /usr/local/lib/python3.10/dist-packages (from torch>=1.10.0->accelerate) (1.13.0)\n",
            "Requirement already satisfied: networkx in /usr/local/lib/python3.10/dist-packages (from torch>=1.10.0->accelerate) (3.3)\n",
            "Requirement already satisfied: jinja2 in /usr/local/lib/python3.10/dist-packages (from torch>=1.10.0->accelerate) (3.1.4)\n",
            "Requirement already satisfied: fsspec in /usr/local/lib/python3.10/dist-packages (from torch>=1.10.0->accelerate) (2023.6.0)\n",
            "Requirement already satisfied: nvidia-cuda-nvrtc-cu12==12.1.105 in /usr/local/lib/python3.10/dist-packages (from torch>=1.10.0->accelerate) (12.1.105)\n",
            "Requirement already satisfied: nvidia-cuda-runtime-cu12==12.1.105 in /usr/local/lib/python3.10/dist-packages (from torch>=1.10.0->accelerate) (12.1.105)\n",
            "Requirement already satisfied: nvidia-cuda-cupti-cu12==12.1.105 in /usr/local/lib/python3.10/dist-packages (from torch>=1.10.0->accelerate) (12.1.105)\n",
            "Requirement already satisfied: nvidia-cudnn-cu12==8.9.2.26 in /usr/local/lib/python3.10/dist-packages (from torch>=1.10.0->accelerate) (8.9.2.26)\n",
            "Requirement already satisfied: nvidia-cublas-cu12==12.1.3.1 in /usr/local/lib/python3.10/dist-packages (from torch>=1.10.0->accelerate) (12.1.3.1)\n",
            "Requirement already satisfied: nvidia-cufft-cu12==11.0.2.54 in /usr/local/lib/python3.10/dist-packages (from torch>=1.10.0->accelerate) (11.0.2.54)\n",
            "Requirement already satisfied: nvidia-curand-cu12==10.3.2.106 in /usr/local/lib/python3.10/dist-packages (from torch>=1.10.0->accelerate) (10.3.2.106)\n",
            "Requirement already satisfied: nvidia-cusolver-cu12==11.4.5.107 in /usr/local/lib/python3.10/dist-packages (from torch>=1.10.0->accelerate) (11.4.5.107)\n",
            "Requirement already satisfied: nvidia-cusparse-cu12==12.1.0.106 in /usr/local/lib/python3.10/dist-packages (from torch>=1.10.0->accelerate) (12.1.0.106)\n",
            "Requirement already satisfied: nvidia-nccl-cu12==2.20.5 in /usr/local/lib/python3.10/dist-packages (from torch>=1.10.0->accelerate) (2.20.5)\n",
            "Requirement already satisfied: nvidia-nvtx-cu12==12.1.105 in /usr/local/lib/python3.10/dist-packages (from torch>=1.10.0->accelerate) (12.1.105)\n",
            "Requirement already satisfied: triton==2.3.0 in /usr/local/lib/python3.10/dist-packages (from torch>=1.10.0->accelerate) (2.3.0)\n",
            "Requirement already satisfied: nvidia-nvjitlink-cu12 in /usr/local/lib/python3.10/dist-packages (from nvidia-cusolver-cu12==11.4.5.107->torch>=1.10.0->accelerate) (12.5.82)\n",
            "Requirement already satisfied: requests in /usr/local/lib/python3.10/dist-packages (from huggingface-hub->accelerate) (2.32.3)\n",
            "Requirement already satisfied: tqdm>=4.42.1 in /usr/local/lib/python3.10/dist-packages (from huggingface-hub->accelerate) (4.66.4)\n",
            "Requirement already satisfied: MarkupSafe>=2.0 in /usr/local/lib/python3.10/dist-packages (from jinja2->torch>=1.10.0->accelerate) (2.1.5)\n",
            "Requirement already satisfied: charset-normalizer<4,>=2 in /usr/local/lib/python3.10/dist-packages (from requests->huggingface-hub->accelerate) (3.3.2)\n",
            "Requirement already satisfied: idna<4,>=2.5 in /usr/local/lib/python3.10/dist-packages (from requests->huggingface-hub->accelerate) (3.7)\n",
            "Requirement already satisfied: urllib3<3,>=1.21.1 in /usr/local/lib/python3.10/dist-packages (from requests->huggingface-hub->accelerate) (2.0.7)\n",
            "Requirement already satisfied: certifi>=2017.4.17 in /usr/local/lib/python3.10/dist-packages (from requests->huggingface-hub->accelerate) (2024.7.4)\n",
            "Requirement already satisfied: mpmath<1.4,>=1.1.0 in /usr/local/lib/python3.10/dist-packages (from sympy->torch>=1.10.0->accelerate) (1.3.0)\n",
            "\u001b[33mWARNING: Running pip as the 'root' user can result in broken permissions and conflicting behaviour with the system package manager, possibly rendering your system unusable.It is recommended to use a virtual environment instead: https://pip.pypa.io/warnings/venv. Use the --root-user-action option if you know what you are doing and want to suppress this warning.\u001b[0m\u001b[33m\n",
            "\u001b[0m"
          ]
        }
      ]
    },
    {
      "cell_type": "markdown",
      "source": [
        "**Sequences for training**"
      ],
      "metadata": {
        "id": "0zHrbhVn3A2K"
      }
    },
    {
      "cell_type": "code",
      "execution_count": null,
      "metadata": {
        "id": "jECusKcZ2wIU"
      },
      "outputs": [],
      "source": [
        "# Family 0: Enzymes\n",
        "sequences_0 = [\n",
        "    \"SKYGJVTMECQALDNLALCRCHPGKPLPKTQKLVF\",\n",
        "    \"RKLVGYTCEPLAALNPLCPMDGKLKTMQAVPRTKY\",\n",
        "    \"RPYQVSVLPLCGDCLVTPACPLADVLDDFVGKKYG\",\n",
        "    \"LCGKLVGYPECADPPYLPGSSFCPKACCKKDPVDE\",\n",
        "    \"KVRGYALCEGKLCPHADYKVPCGMDPQDRLPRAAT\",\n",
        "    \"TRPKAVDCEQALVYLGHPLPMDGKVDAVCGSKTPK\",\n",
        "    \"RDLVYGTCGQALDCHPGKPLPKCGADLKSKVATPY\",\n",
        "    \"LTCGKLVDYPQCADPPVLRGSSFVPKACCKLDPVD\",\n",
        "    \"RVGYALCEPKLCPVADYKPPGMDQDRLPVAATSKT\",\n",
        "    \"TPKAVDCEKALVYLPKPLPMDGKVPKCGSKTPKTR\",\n",
        "    \"DVLGYTCGALDCHPKPLPKCGADKSKVATPYLRDG\",\n",
        "    \"TCGKLVQYPQCADPPVLRGSSFVVKACCKLDPVDE\",\n",
        "    \"GYALCEGKLCPKADYKPMDQDRLPVAATSKTRPVG\",\n",
        "    \"PKAVDCEKALVYLPKPLPMDGKPKCGSKTPKTRPY\",\n",
        "    \"VLGYTCGALDCHPKPLPKCGADKSKVATPYLRDGL\",\n",
        "    \"CGKLVQYPQCADPPVLRGSSFVKACCKLDPVDEKT\",\n",
        "    \"YALCEGKLCPKADYKPMDQDRLPVAATSKTRPVGK\",\n",
        "    \"KAVDCEKALVYLPKPLPMDGKPKCGSKTPKTRPYQ\",\n",
        "    \"LGYTCGALDCHPKPLPKCGADKSKVATPYLRDGLT\",\n",
        "    \"GKLVQYPQCADPPVLRGSSFVKACCKLDPVDEKTC\",\n",
        "    \"ACGYLKTQKADPPGLRGRSSQTKAICKPDPALEK\",\n",
        "    \"GVALDECKALGKLPMDGKVCQCGSLTPLRPYGHTM\",\n",
        "    \"VLPGYTCELDCKPGPQKCGADKTQVATPFLRGKVD\",\n",
        "    \"TCGALVQYPSCADPVLRGSDSSVKACGKLDPQDKY\",\n",
        "    \"GALCEEGKLCPGADKKPMDGDRLPAAATSKTRPVG\",\n",
        "    \"PAVDCKKALVKLPKPLPMDGKVCRGSKTPKTRPYL\",\n",
        "    \"VLGYTCGALDCKPGPKPKCGADKTQVATPFLRGAY\",\n",
        "    \"CGALVQYPSCADPPGLRGSDSSVKACKKLDPQDKT\",\n",
        "    \"ALCEECKLCAGADYKPMDGDRLPAAATSKTRPVGK\",\n",
        "    \"AVDCKKALVKLPKPLPMDGKVCRGSKTPKTRPYGR\",\n",
        "    \"ACGYLKTQKADPPGLRGRSSQTKAICKPDPALEK\",\n",
        "    \"GVALDECKALGKLPMDGKVCQCGSLTPLRPYGHTM\",\n",
        "    \"VLPGYTCELDCKPGPQKCGADKTQVATPFLRGKVD\",\n",
        "    \"TCGALVQYPSCADPVLRGSDSSVKACGKLDPQDKY\",\n",
        "    \"GALCEEGKLCPGADKKPMDGDRLPAAATSKTRPVG\",\n",
        "    \"PAVDCKKALVKLPKPLPMDGKVCRGSKTPKTRPYL\",\n",
        "    \"VLGYTCGALDCKPGPKPKCGADKTQVATPFLRGAY\",\n",
        "    \"CGALVQYPSCADPPGLRGSDSSVKACKKLDPQDKT\",\n",
        "    \"ALCEECKLCAGADYKPMDGDRLPAAATSKTRPVGK\",\n",
        "    \"AVDCKKALVKLPKPLPMDGKVCRGSKTPKTRPYGR\",\n",
        "    \"ACGYLKTQKADPPGLRGRSSQTKAICKPDAALEKM\",\n",
        "    \"GVALDECKALGKLPMDGKVCQCGSLTPLRPYGHTMS\",\n",
        "    \"VLPGYTCELDCKPGPQKCGADKTQVATPFLRGKVDV\",\n",
        "    \"TCGALVQYPSCADPVLRGSDSSVKACGKLDPQDKYG\",\n",
        "    \"GALCEEGKLCPGADKKPMDGDRLPAAATSKTRPVGK\",\n",
        "    \"PAVDCKKALVKLPKPLPMDGKVCRGSKTPKTRPYLL\",\n",
        "    \"VLGYTCGALDCKPGPKPKCGADKTQVATPFLRGAYP\",\n",
        "    \"CGALVQYPSCADPPGLRGSDSSVKACKKLDPQDKTG\",\n",
        "    \"ALCEECKLCAGADYKPMDGDRLPAAATSKTRPVGKS\",\n",
        "    \"AVDCKKALVKLPKPLPMDGKVCRGSKTPKTRPYGRD\",\n",
        "    \"ACGYLKTKQADPPGLRGRSSQTKAICKPDAALEKMG\",\n",
        "    \"GVALDECKLGKLPMDGKVCQCGSLTPLRPYGHTMSG\",\n",
        "    \"VLPGYTCLDCKPGPQKCGADKTQVATPFLRGKVDVR\",\n",
        "    \"TCGALVYPSCADPVLRGSDSSVKACGKLDPQDKYGP\",\n",
        "    \"GALCEGKLCPGADKKPMDGDRLPAAATSKTRPVGKD\",\n",
        "    \"PAVDCKALVKLPKPLPMDGKVCRGSKTPKTRPYLLG\",\n",
        "    \"VLGYTCAALDCKPGPKPKCGADKTQVATPFLRGAYV\",\n",
        "    \"CGALVYPSCDPPGLRGSDSSVKACKKLDPQDKTGV\",\n",
        "    \"ALCEKLCAGADYKPMDGDRLPAAATSKTRPVGKST\",\n",
        "    \"AVDCALVKLPKPLPMDGKVCRGSKTPKTRPYGRDS\"\n",
        "]\n",
        "\n",
        "\n",
        "# Family 1: Receptor Proteins\n",
        "sequences_1 = [\n",
        "    \"VGGRFYGGCQKRNLHCEKSPLPSACRGKVQGALTY\",\n",
        "    \"KDPQVLTVGTYACQCPKMDSKGRVPPTLRVKVYAR\",\n",
        "    \"PLVGVACGRTLDYKCPGKMVPGDLKVTPATQRLYD\",\n",
        "    \"CGVKLGYPSCADVPLQGRSSFAPKACMKKDPQVTG\",\n",
        "    \"RKGVALYECGKLSCKADYKPVGMDGDRLPKAASTT\",\n",
        "    \"RPTKAVNCEQAKVYRGLPLPMKGKVPRVCRSKRPR\",\n",
        "    \"RLDVGYTCKQALDCKPGKPQPKMGCADLKSTVATP\",\n",
        "    \"LGTCGKLVAYPQCADPPVMGRSSFMPKACCKQDPV\",\n",
        "    \"RVGYAMCEPKLCSCVADYKPPMGDGDRLPKAATSK\",\n",
        "    \"QPKAVNCEKAMVYRPKPLPMDKGVPVCRSKKPRPY\",\n",
        "    \"DVMGYTCGALDCKPKPQPKMGADKSTVATPYLRDR\",\n",
        "    \"TGCGKLVVYPQCADPPVMGRSSFVVKAQCKLDPVD\",\n",
        "    \"GYAMCEGKLCPKADYKPMGDGDRLPKAATSKRQVG\",\n",
        "    \"QKAVNCEKAMVYRPKPLPMDKGVPVCRSKKPRPYQ\",\n",
        "    \"VMGYTCGALDCKPKPQPKMGADKSTVATPYLRDRL\",\n",
        "    \"GCGKLVVYPQCADPPVMGRSSFVVKAQCKLDPVDE\",\n",
        "    \"AMCEGKLCPKADYKPMGDGDRLPKAATSKRQVGKY\",\n",
        "    \"KAVNCEKAMVYRPKPLPMDKGVPVCRSKKPRPYQV\",\n",
        "    \"MGYTCGALDCKPKPQPKMGADKSTVATPYLRDRLG\",\n",
        "    \"GKLVVYPQCADPPVMGRSSFVVKAQCKLDPVDEKTC\",\n",
        "    \"VGQRFYGGRQKNRHCMLSPLPSACRGSVQGALYTD\",\n",
        "    \"KDQVLTVPTYACRCPKMSKGRVPSTLRVKSARSYV\",\n",
        "    \"PLAGVACGRGLDYRCPRKQVPGDLQVTPATQRPYGV\",\n",
        "    \"CGVRLGYPGCADVPLRGRSSFAKRACMKKDPRVTR\",\n",
        "    \"RKGVAYLYECRKLRCRADKKPRGMDGRRLPKASTT\",\n",
        "    \"RPTGAVNCKQAKVYRGLLPMKGKVPRVCRSRRPYP\",\n",
        "    \"RLDGGYTCGQALDCKPGRKPKMGACADLKSTVATP\",\n",
        "    \"LGTCRKLVRYPQCADPPMGRRSFRPKACCRQDPVT\",\n",
        "    \"RVGYAMCSPKLCSCRADKKPMGDGDRLPKAATSKV\",\n",
        "    \"QPKAVNCRKAMVYRPKPLPMDKGVPVCRSKRPRPY\",\n",
        "    \"VGQRFYGGRQKNRHCMLSPLPSACRGSVQGALYTD\",\n",
        "    \"KDQVLTVPTYACRCPKMSKGRVPSTLRVKSARSYV\",\n",
        "    \"PLAGVACGRGLDYRCPRKQVPGDLQVTPATQRPYGV\",\n",
        "    \"CGVRLGYPGCADVPLRGRSSFAKRACMKKDPRVTR\",\n",
        "    \"RKGVAYLYECRKLRCRADKKPRGMDGRRLPKASTT\",\n",
        "    \"RPTGAVNCKQAKVYRGLLPMKGKVPRVCRSRRPYP\",\n",
        "    \"RLDGGYTCGQALDCKPGRKPKMGACADLKSTVATP\",\n",
        "    \"LGTCRKLVRYPQCADPPMGRRSFRPKACCRQDPVT\",\n",
        "    \"RVGYAMCSPKLCSCRADKKPMGDGDRLPKAATSKV\",\n",
        "    \"QPKAVNCRKAMVYRPKPLPMDKGVPVCRSKRPRPY\",\n",
        "    \"VGQRFYGGRQKNRHCMLSPLPSACRGSVQGALYTDR\",\n",
        "    \"KDQVLTVPTYACRCPKMSKGRVPSTLRVKSARSYVP\",\n",
        "    \"PLAGVACGRGLDYRCPRKQVPGDLQVTPATQRPYGVP\",\n",
        "    \"CGVRLGYPGCADVPLRGRSSFAKRACMKKDPRVTRG\",\n",
        "    \"RKGVAYLYECRKLRCRADKKPRGMDGRRLPKASTTP\",\n",
        "    \"RPTGAVNCKQAKVYRGLLPMKGKVPRVCRSRRPYPK\",\n",
        "    \"RLDGGYTCGQALDCKPGRKPKMGACADLKSTVATPP\",\n",
        "    \"LGTCRKLVRYPQCADPPMGRRSFRPKACCRQDPVTV\",\n",
        "    \"RVGYAMCSPKLCSCRADKKPMGDGDRLPKAATSKVT\",\n",
        "    \"QPKAVNCRKAMVYRPKPLPMDKGVPVCRSKRPRPYG\",\n",
        "    \"VGQRFYGQRQKNRHCMLSPLPSACRGSVQGALYTDRV\",\n",
        "    \"KDQVLTVYACRCPKMSKGRVPSTLRVKSARSYVPP\",\n",
        "    \"PLAGVACRGLDYRCPRKQVPGDLQVTPATQRPYGVPD\",\n",
        "    \"CGVRLGYPGADVPLRGRSSFAKRACMKKDPRVTRGR\",\n",
        "    \"RKGVAYLCKRKLRCRADKKPRGMDGRRLPKASTTPG\",\n",
        "    \"RPTGAVNCKAKVYRGLLPMKGKVPRVCRSRRPYPKG\",\n",
        "    \"RLDGGYTCALDCKPGRKPKMGACADLKSTVATPPP\",\n",
        "    \"LGTCRKLVRPQCADPPMGRRSFRPKACCRQDPVTVR\",\n",
        "    \"RVGYAMCSPLCSCRADKKPMGDGDRLPKAATSKVTR\",\n",
        "    \"QPKAVNCRAMVYRPKPLPMDKGVPVCRSKRPRPYGP\"\n",
        "]\n",
        "\n",
        "\n",
        "# Family 2: Structural Proteins\n",
        "sequences_2 = [\n",
        "    \"VGKGFRYGGSQKRYLHCQKSALPPSCKRGKGQGSAT\",\n",
        "    \"KDPTVMTVGTYKCQCPKQDSRGSVQPTSRVKTYSRK\",\n",
        "    \"PLVGKACGRSKDYKCPGQMVSGGSKQTPASQRPSYD\",\n",
        "    \"CGKKLVGYPSKADVPLQGRSSFSPKACKKDPQMTGS\",\n",
        "    \"RKGVASLYCSGKLSCKAQYSKGMSDGRSPKASSTTS\",\n",
        "    \"RPKSASNCEQAKSYRSLSLPSMKGKVPSKCSRSKRP\",\n",
        "    \"RSDVSYTSCKQSKDCKPSKPPKMSGSKDSSTVATPS\",\n",
        "    \"LSTCSKKVAYPSKADPPSSGRSSFSMKACKKQDPPV\",\n",
        "    \"RVGSAMSEPKSSCSVQSYSKPSMSGDSSPKASSTSK\",\n",
        "    \"QPSSSNCEKMSVYRPSLPSMSKGVPSSRSKSSPPYQ\",\n",
        "    \"DSMSYSSGSTSDCKPSPPPKMSGSDKSSTVATPSLR\",\n",
        "    \"TSSCKKVVYPSSKADPPSSGRSSSVKASQCKSDPPD\",\n",
        "    \"GSASSEGKSSPKAQYSKMSGDSSPKASSTSKRQSGK\",\n",
        "    \"KQSSSNCEKMSVYRPSLPSMSKGVPSSRSKSSPPYQ\",\n",
        "    \"SSMSYSSGSTSDCKPSPPPKMSGSDKSSTVATPSLR\",\n",
        "    \"SSCKKVVYPSSKADPPSSGRSSSVKASQCKSDPPDE\",\n",
        "    \"SASSEGKSSPKAQYSKMSGDSSPKASSTSKRQSGKY\",\n",
        "    \"SSSNCEKMSVYRPSLPSMSKGVPSSRSKSSPPYQSS\",\n",
        "    \"MSYSSGSTSDCKPSPPPKMSGSDKSSTVATPSLRSG\",\n",
        "    \"KKVVYPSSKADPPSSGRSSSVKASQCKSDPPDEKTS\",\n",
        "    \"VGKGFRYGSSQKRYLHCQKSSLPPSCRRGKGQGSAT\",\n",
        "    \"KDPTVMTVGTYSCQCPKQDRSGSVQPTSRVKTSRSK\",\n",
        "    \"PLVGKACGRSSDYKCPGQMVSGSSKQTPASQRPSYD\",\n",
        "    \"CGKKLVGYPSSKADVPLQGRSSFSKACKKDPQMTS\",\n",
        "    \"RKGVASLYCSSKLSCKAQYSKGSMDGRSPKASSTTS\",\n",
        "    \"RPKSAASCEQAKSYRSLSLPSMKGVPSKCSRSKRP\",\n",
        "    \"RSDVSYTSCSQSKDCKPSKPQKMSGDKDSSTVATPS\",\n",
        "    \"LSTCSKKVAYPSSKADPPSSGRSSFSKACKKQDPPV\",\n",
        "    \"RVGSASSEPKSSCSVQSYSKPSMSDSSPKASSTSK\",\n",
        "    \"QPSASNCEKMSSYRPSLPMSKGVPSSRSKSSPPYQ\",\n",
        "    \"VGKGFRYGSSQKRYLHCQKSSLPPSCRRGKGQGSAT\",\n",
        "    \"KDPTVMTVGTYSCQCPKQDRSGSVQPTSRVKTSRSK\",\n",
        "    \"PLVGKACGRSSDYKCPGQMVSGSSKQTPASQRPSYD\",\n",
        "    \"CGKKLVGYPSSKADVPLQGRSSFSKACKKDPQMTS\",\n",
        "    \"RKGVASLYCSSKLSCKAQYSKGSMDGRSPKASSTTS\",\n",
        "    \"RPKSAASCEQAKSYRSLSLPSMKGVPSKCSRSKRP\",\n",
        "    \"RSDVSYTSCSQSKDCKPSKPQKMSGDKDSSTVATPS\",\n",
        "    \"LSTCSKKVAYPSSKADPPSSGRSSFSKACKKQDPPV\",\n",
        "    \"RVGSASSEPKSSCSVQSYSKPSMSDSSPKASSTSK\",\n",
        "    \"QPSASNCEKMSSYRPSLPMSKGVPSSRSKSSPPYQ\",\n",
        "    \"VGKGFRYGSSQKRYLHCQKSSLPPSCRRGKGQGSATG\",\n",
        "    \"KDPTVMTVGTYSCQCPKQDRSGSVQPTSRVKTSRSKG\",\n",
        "    \"PLVGKACGRSSDYKCPGQMVSGSSKQTPASQRPSYDP\",\n",
        "    \"CGKKLVGYPSSKADVPLQGRSSFSKACKKDPQMTSK\",\n",
        "    \"RKGVASLYCSSKLSCKAQYSKGSMDGRSPKASSTTSG\",\n",
        "    \"RPKSAASCEQAKSYRSLSLPSMKGVPSKCSRSKRPP\",\n",
        "    \"RSDVSYTSCSQSKDCKPSKPQKMSGDKDSSTVATPSP\",\n",
        "    \"LSTCSKKVAYPSSKADPPSSGRSSFSKACKKQDPPVG\",\n",
        "    \"RVGSASSEPKSSCSVQSYSKPSMSDSSPKASSTSKG\",\n",
        "    \"QPSASNCEKMSSYRPSLPMSKGVPSSRSKSSPPYQG\",\n",
        "    \"VGKGFRYGSSQRYLHCQKSSLPPSCRRGKGQGSATGR\",\n",
        "    \"KDPTVMTVGTSCQCPKQDRSGSVQPTSRVKTSRSKGD\",\n",
        "    \"PLVGKACSSSDYKCPGQMVSGSSKQTPASQRPSYDPP\",\n",
        "    \"CGKKLVGYPKSKADVPLQGRSSFSKACKKDPQMTSKP\",\n",
        "    \"RKGVASLCKSSKLSCKAQYSKGSMDGRSPKASSTTSP\",\n",
        "    \"RPKSAASCQAKSYRSLSLPSMKGVPSKCSRSKRPPG\",\n",
        "    \"RSDVSYTSCSSKDCKPSKPQKMSGDKDSSTVATPSSP\",\n",
        "    \"LSTCSKVKAYPSSKADPPSSGRSSFSKACKKQDPPVG\",\n",
        "    \"RVGSASPKSSCSVQSYSKPSMSDSSPKASSTSKPG\",\n",
        "    \"QPSASNCSSYRPSLPMSKGVPSSRSKSSPPYQGP\"\n",
        "]"
      ]
    },
    {
      "cell_type": "code",
      "source": [
        "sequences = sequences_0 + sequences_1 + sequences_2\n",
        "labels = [0] * len(sequences_0) + [1] * len(sequences_1) + [2] * len(sequences_2)\n",
        "train_data = {'text': sequences, 'label': labels}"
      ],
      "metadata": {
        "id": "H8AjfhVr3IGi"
      },
      "execution_count": null,
      "outputs": []
    },
    {
      "cell_type": "code",
      "source": [
        "import torch\n",
        "from transformers import AutoTokenizer, EsmForSequenceClassification\n",
        "\n",
        "model_name = \"facebook/esm2_t6_8M_UR50D\"\n",
        "tokenizer = AutoTokenizer.from_pretrained(model_name)\n",
        "model = EsmForSequenceClassification.from_pretrained(model_name, num_labels = 3)"
      ],
      "metadata": {
        "colab": {
          "base_uri": "https://localhost:8080/"
        },
        "id": "7paOsGD63IzU",
        "outputId": "91ccc788-cbc4-4e06-bb3a-2e4c902f04cf"
      },
      "execution_count": null,
      "outputs": [
        {
          "output_type": "stream",
          "name": "stderr",
          "text": [
            "/usr/local/lib/python3.10/dist-packages/huggingface_hub/utils/_token.py:89: UserWarning: \n",
            "The secret `HF_TOKEN` does not exist in your Colab secrets.\n",
            "To authenticate with the Hugging Face Hub, create a token in your settings tab (https://huggingface.co/settings/tokens), set it as secret in your Google Colab and restart your session.\n",
            "You will be able to reuse this secret in all of your notebooks.\n",
            "Please note that authentication is recommended but still optional to access public models or datasets.\n",
            "  warnings.warn(\n",
            "Some weights of EsmForSequenceClassification were not initialized from the model checkpoint at facebook/esm2_t6_8M_UR50D and are newly initialized: ['classifier.dense.bias', 'classifier.dense.weight', 'classifier.out_proj.bias', 'classifier.out_proj.weight']\n",
            "You should probably TRAIN this model on a down-stream task to be able to use it for predictions and inference.\n"
          ]
        }
      ]
    },
    {
      "cell_type": "code",
      "source": [
        "from datasets import Dataset\n",
        "\n",
        "dataset = Dataset.from_dict(train_data)\n",
        "\n",
        "# Tokenize the dataset\n",
        "def tokenize_function(examples):\n",
        "    return tokenizer(examples['text'], padding=True, truncation=True)\n",
        "\n",
        "tokenized_dataset = dataset.map(tokenize_function, batched=True)\n",
        "tokenized_dataset"
      ],
      "metadata": {
        "colab": {
          "base_uri": "https://localhost:8080/",
          "height": 118,
          "referenced_widgets": [
            "9de1df0cd3e04035ab3f0360903f82e1",
            "5831c83867564c0eb21e7c03f0a638ad",
            "bd19f07eb95341c58e55452b99961459",
            "edcaeecd6bcf438aaee03bc4042580b6",
            "837f76cc19864843bd8e878d4301fbbd",
            "7f45bc46965b4b8e9886fbac10b8bd61",
            "8715b14f65614af6af0607851d7e3eb1",
            "0e93c00135094be49eb89eb66305c270",
            "3b10a3a49e654821973a274e9fb9da86",
            "9ea207dd146e47fcbc372e2665bdf1c9",
            "69525d126e6a4ed7bcf6ed65030b1b3c"
          ]
        },
        "id": "qacwhkpS3S_4",
        "outputId": "c18bd13c-0ee6-4d30-c5f7-ad2edcc43c82"
      },
      "execution_count": null,
      "outputs": [
        {
          "output_type": "display_data",
          "data": {
            "text/plain": [
              "Map:   0%|          | 0/180 [00:00<?, ? examples/s]"
            ],
            "application/vnd.jupyter.widget-view+json": {
              "version_major": 2,
              "version_minor": 0,
              "model_id": "9de1df0cd3e04035ab3f0360903f82e1"
            }
          },
          "metadata": {}
        },
        {
          "output_type": "execute_result",
          "data": {
            "text/plain": [
              "Dataset({\n",
              "    features: ['text', 'label', 'input_ids', 'attention_mask'],\n",
              "    num_rows: 180\n",
              "})"
            ]
          },
          "metadata": {},
          "execution_count": 7
        }
      ]
    },
    {
      "cell_type": "markdown",
      "source": [
        "The only argument you have to provide is a directory where the trained model will be saved. For all the rest, you can leave the defaults, which should work pretty well for a basic fine-tuning."
      ],
      "metadata": {
        "id": "MhUJ2p_c5v1w"
      }
    },
    {
      "cell_type": "code",
      "source": [
        "print(torch.tensor(tokenized_dataset['input_ids']).shape)"
      ],
      "metadata": {
        "colab": {
          "base_uri": "https://localhost:8080/"
        },
        "id": "4mpC8yxjAkwD",
        "outputId": "3760e895-8f89-4272-da52-98207759c708"
      },
      "execution_count": null,
      "outputs": [
        {
          "output_type": "stream",
          "name": "stdout",
          "text": [
            "torch.Size([180, 39])\n"
          ]
        }
      ]
    },
    {
      "cell_type": "code",
      "source": [
        "from transformers import TrainingArguments, Trainer\n",
        "# Define the training arguments\n",
        "training_args = TrainingArguments(\n",
        "    output_dir='./save_models',\n",
        "    num_train_epochs=10,\n",
        "    per_device_train_batch_size=16,\n",
        "    save_steps=10,\n",
        "    save_total_limit=2,\n",
        ")\n",
        "\n",
        "# Initialize the Trainer\n",
        "trainer = Trainer(\n",
        "    model=model,\n",
        "    args=training_args,\n",
        "    train_dataset=tokenized_dataset,\n",
        ")\n",
        "\n",
        "# Train the model\n",
        "trainer.train()"
      ],
      "metadata": {
        "colab": {
          "base_uri": "https://localhost:8080/",
          "height": 110
        },
        "id": "aRz69aFs6B0J",
        "outputId": "ab101372-6640-4ae5-a6a5-a4a8136eb6bd"
      },
      "execution_count": null,
      "outputs": [
        {
          "output_type": "display_data",
          "data": {
            "text/plain": [
              "<IPython.core.display.HTML object>"
            ],
            "text/html": [
              "\n",
              "    <div>\n",
              "      \n",
              "      <progress value='120' max='120' style='width:300px; height:20px; vertical-align: middle;'></progress>\n",
              "      [120/120 00:15, Epoch 10/10]\n",
              "    </div>\n",
              "    <table border=\"1\" class=\"dataframe\">\n",
              "  <thead>\n",
              " <tr style=\"text-align: left;\">\n",
              "      <th>Step</th>\n",
              "      <th>Training Loss</th>\n",
              "    </tr>\n",
              "  </thead>\n",
              "  <tbody>\n",
              "  </tbody>\n",
              "</table><p>"
            ]
          },
          "metadata": {}
        },
        {
          "output_type": "execute_result",
          "data": {
            "text/plain": [
              "TrainOutput(global_step=120, training_loss=0.40109535853068035, metrics={'train_runtime': 15.1195, 'train_samples_per_second': 119.051, 'train_steps_per_second': 7.937, 'total_flos': 3159928324800.0, 'train_loss': 0.40109535853068035, 'epoch': 10.0})"
            ]
          },
          "metadata": {},
          "execution_count": 10
        }
      ]
    },
    {
      "cell_type": "markdown",
      "source": [
        "**test seq**"
      ],
      "metadata": {
        "id": "qrM4G65_DsZz"
      }
    },
    {
      "cell_type": "code",
      "source": [
        "# Additional Family 0: Enzymes\n",
        "new_sequences_0 = [\n",
        "    \"ACGYLKTPKLADPPVLRGDSSVTKAICKPDPVLEK\",\n",
        "    \"GVALDECKALDYLPGKPLPMDGKVCQCGSKTPLRP\",\n",
        "    \"VLPGYTCGELDCKPGKPLPKCGADKTQVATPFLRG\",\n",
        "    \"TCGALVQYPSCADPPVLRGSDSSVKACKKLDPQDK\",\n",
        "    \"GALCEECKLCPGADYKPMDGDRLPAAATSKTRPVG\",\n",
        "    \"PAVDCKKALVYLPKPLPMDGKVCRGSKTPKTRPYG\",\n",
        "    \"VLGYTCGALDCKPGKPLPKCGADKTQVATPFLRGA\",\n",
        "    \"CGALVQYPSCADPPVLRGSDSSVKACKKLDPQDKT\",\n",
        "    \"ALCEECKLCPGADYKPMDGDRLPAAATSKTRPVGK\",\n",
        "    \"AVDCKKALVYLPKPLPMDGKVCRGSKTPKTRPYGR\",\n",
        "]\n",
        "\n",
        "# Additional Family 1: Receptor Proteins\n",
        "new_sequences_1 = [\n",
        "    \"VGQRFYGGRQKNRHCELSPLPSACRGSVQGALYTD\",\n",
        "    \"KDQVLTVPTYACRCCPKMDSKGRVPSTLRVKSARS\",\n",
        "    \"PLAGVACGRGLDYRCPRKMVPGDLQVTPATQRPYG\",\n",
        "    \"CGVRLGYPGCADVPLRGRSSFAPRACMKKDPRVTR\",\n",
        "    \"RKGVAYLYECRKLRCRADYKPRGMDGRRLPKASTT\",\n",
        "    \"RPTGAVNCKQAKVYRGLPLPMMGKVPRVCRSRRPY\",\n",
        "    \"RLDGGYTCGQALDCKPGRKPPKMGCADLKSTVATP\",\n",
        "    \"LGTCRKLVRYPQCADPPVMGRSSFRPKACCRQDPV\",\n",
        "    \"RVGYAMCSPKLCSCRADYKPPMGDGDRLPKAATSK\",\n",
        "    \"QPKAVNCRKAMVYRPKPLPMDKGVPVCRSKRPRPY\",\n",
        "]\n",
        "\n",
        "# Additional Family 2: Structural Proteins\n",
        "new_sequences_2 = [\n",
        "    \"VGKGFRYGSSQKRYLHCQKSALPPSCRRGKGQGSAT\",\n",
        "    \"KDPTVMTVGTYSCQCPKQDSRGSVQPTSRVKTSRSK\",\n",
        "    \"PLVGKACGRSSDYKCPGQMVSGGSKQTPASQRPSYD\",\n",
        "    \"CGKKLVGYPSSKADVPLQGRSSFSPKACKKDPQMTS\",\n",
        "    \"RKGVASLYCSSKLSCKAQYSKGMSDGRSPKASSTTS\",\n",
        "    \"RPKSAASCEQAKSYRSLSLPSMKGKVPSKCSRSKRP\",\n",
        "    \"RSDVSYTSCSQSKDCKPSKPPKMSGSKDSSTVATPS\",\n",
        "    \"LSTCSKKVAYPSSKADPPSSGRSSFSMKACKKQDPPV\",\n",
        "    \"RVGSASSEPKSSCSVQSYSKPSMSGDSSPKASSTSK\",\n",
        "    \"QPSASNCEKMSSYRPSLPSMSKGVPSSRSKSSPPYQ\",\n",
        "]\n"
      ],
      "metadata": {
        "id": "_Fft9aAc88Mt"
      },
      "execution_count": null,
      "outputs": []
    },
    {
      "cell_type": "code",
      "source": [
        "new_sequences = new_sequences_0 + new_sequences_1 + new_sequences_2\n",
        "new_labels = [0] * len(new_sequences_0) + [1] * len(new_sequences_1) + [2] * len(new_sequences_2)\n",
        "test_data = {'text': new_sequences, 'label': new_labels}"
      ],
      "metadata": {
        "id": "XoYYR6Gg9DH8"
      },
      "execution_count": null,
      "outputs": []
    },
    {
      "cell_type": "code",
      "source": [
        "test_dataset = Dataset.from_dict(test_data)\n",
        "tokenized_test_dataset = test_dataset.map(tokenize_function, batched=True)\n",
        "tokenized_test_dataset"
      ],
      "metadata": {
        "colab": {
          "base_uri": "https://localhost:8080/",
          "height": 118,
          "referenced_widgets": [
            "c70e8f0b83944feca5d6348c0837838b",
            "4c429c3743f8466095bbc10f85c58c96",
            "7760e12e451b41b888b1bd24e5875c35",
            "e761cf9c1f6143e6b5f9da0923054586",
            "4c1153cf58ed44a2b278b078ee09d54f",
            "41463492cdc24207b20090ae658a5dee",
            "9cce3a2cbf1a4d59bc045a60b9d258e8",
            "acd6665001c34a389163e1e2b5c0f9f5",
            "3843e055290346b2b6644438e300bc2c",
            "597f5dbb81ed4920b6beecfa74793377",
            "a22e97f065c24df7b12fc6372f59028a"
          ]
        },
        "id": "eK7VYvPSELOt",
        "outputId": "36faf255-355e-49fe-9a35-b759701fa9df"
      },
      "execution_count": null,
      "outputs": [
        {
          "output_type": "display_data",
          "data": {
            "text/plain": [
              "Map:   0%|          | 0/30 [00:00<?, ? examples/s]"
            ],
            "application/vnd.jupyter.widget-view+json": {
              "version_major": 2,
              "version_minor": 0,
              "model_id": "c70e8f0b83944feca5d6348c0837838b"
            }
          },
          "metadata": {}
        },
        {
          "output_type": "execute_result",
          "data": {
            "text/plain": [
              "Dataset({\n",
              "    features: ['text', 'label', 'input_ids', 'attention_mask'],\n",
              "    num_rows: 30\n",
              "})"
            ]
          },
          "metadata": {},
          "execution_count": 16
        }
      ]
    },
    {
      "cell_type": "code",
      "source": [
        "predictions = trainer.predict(tokenized_test_dataset)\n",
        "print(predictions.predictions.shape, predictions.label_ids.shape)"
      ],
      "metadata": {
        "colab": {
          "base_uri": "https://localhost:8080/",
          "height": 34
        },
        "id": "WNx8R43xEb42",
        "outputId": "1779069f-8879-4562-896a-65104f3fd18a"
      },
      "execution_count": null,
      "outputs": [
        {
          "output_type": "display_data",
          "data": {
            "text/plain": [
              "<IPython.core.display.HTML object>"
            ],
            "text/html": []
          },
          "metadata": {}
        },
        {
          "output_type": "stream",
          "name": "stdout",
          "text": [
            "(30, 3) (30,)\n"
          ]
        }
      ]
    },
    {
      "cell_type": "code",
      "source": [
        "predictions.label_ids"
      ],
      "metadata": {
        "colab": {
          "base_uri": "https://localhost:8080/"
        },
        "id": "mE7T36FJFM1X",
        "outputId": "b3f3dc86-d0df-4b17-ce62-3081a1db72ca"
      },
      "execution_count": null,
      "outputs": [
        {
          "output_type": "execute_result",
          "data": {
            "text/plain": [
              "array([0, 0, 0, 0, 0, 0, 0, 0, 0, 0, 1, 1, 1, 1, 1, 1, 1, 1, 1, 1, 2, 2,\n",
              "       2, 2, 2, 2, 2, 2, 2, 2])"
            ]
          },
          "metadata": {},
          "execution_count": 20
        }
      ]
    },
    {
      "cell_type": "code",
      "source": [
        "# Print the predicted class for each sequence\n",
        "for sequence, predicted_class in zip(new_sequences, predictions.label_ids):\n",
        "    print(f\"Sequence: {sequence}, Predicted class: {predicted_class}\")"
      ],
      "metadata": {
        "colab": {
          "base_uri": "https://localhost:8080/"
        },
        "id": "_PgWnOICEpKG",
        "outputId": "338d1ff7-5938-4269-aa13-5c057ee02cce"
      },
      "execution_count": null,
      "outputs": [
        {
          "output_type": "stream",
          "name": "stdout",
          "text": [
            "Sequence: ACGYLKTPKLADPPVLRGDSSVTKAICKPDPVLEK, Predicted class: 0\n",
            "Sequence: GVALDECKALDYLPGKPLPMDGKVCQCGSKTPLRP, Predicted class: 0\n",
            "Sequence: VLPGYTCGELDCKPGKPLPKCGADKTQVATPFLRG, Predicted class: 0\n",
            "Sequence: TCGALVQYPSCADPPVLRGSDSSVKACKKLDPQDK, Predicted class: 0\n",
            "Sequence: GALCEECKLCPGADYKPMDGDRLPAAATSKTRPVG, Predicted class: 0\n",
            "Sequence: PAVDCKKALVYLPKPLPMDGKVCRGSKTPKTRPYG, Predicted class: 0\n",
            "Sequence: VLGYTCGALDCKPGKPLPKCGADKTQVATPFLRGA, Predicted class: 0\n",
            "Sequence: CGALVQYPSCADPPVLRGSDSSVKACKKLDPQDKT, Predicted class: 0\n",
            "Sequence: ALCEECKLCPGADYKPMDGDRLPAAATSKTRPVGK, Predicted class: 0\n",
            "Sequence: AVDCKKALVYLPKPLPMDGKVCRGSKTPKTRPYGR, Predicted class: 0\n",
            "Sequence: VGQRFYGGRQKNRHCELSPLPSACRGSVQGALYTD, Predicted class: 1\n",
            "Sequence: KDQVLTVPTYACRCCPKMDSKGRVPSTLRVKSARS, Predicted class: 1\n",
            "Sequence: PLAGVACGRGLDYRCPRKMVPGDLQVTPATQRPYG, Predicted class: 1\n",
            "Sequence: CGVRLGYPGCADVPLRGRSSFAPRACMKKDPRVTR, Predicted class: 1\n",
            "Sequence: RKGVAYLYECRKLRCRADYKPRGMDGRRLPKASTT, Predicted class: 1\n",
            "Sequence: RPTGAVNCKQAKVYRGLPLPMMGKVPRVCRSRRPY, Predicted class: 1\n",
            "Sequence: RLDGGYTCGQALDCKPGRKPPKMGCADLKSTVATP, Predicted class: 1\n",
            "Sequence: LGTCRKLVRYPQCADPPVMGRSSFRPKACCRQDPV, Predicted class: 1\n",
            "Sequence: RVGYAMCSPKLCSCRADYKPPMGDGDRLPKAATSK, Predicted class: 1\n",
            "Sequence: QPKAVNCRKAMVYRPKPLPMDKGVPVCRSKRPRPY, Predicted class: 1\n",
            "Sequence: VGKGFRYGSSQKRYLHCQKSALPPSCRRGKGQGSAT, Predicted class: 2\n",
            "Sequence: KDPTVMTVGTYSCQCPKQDSRGSVQPTSRVKTSRSK, Predicted class: 2\n",
            "Sequence: PLVGKACGRSSDYKCPGQMVSGGSKQTPASQRPSYD, Predicted class: 2\n",
            "Sequence: CGKKLVGYPSSKADVPLQGRSSFSPKACKKDPQMTS, Predicted class: 2\n",
            "Sequence: RKGVASLYCSSKLSCKAQYSKGMSDGRSPKASSTTS, Predicted class: 2\n",
            "Sequence: RPKSAASCEQAKSYRSLSLPSMKGKVPSKCSRSKRP, Predicted class: 2\n",
            "Sequence: RSDVSYTSCSQSKDCKPSKPPKMSGSKDSSTVATPS, Predicted class: 2\n",
            "Sequence: LSTCSKKVAYPSSKADPPSSGRSSFSMKACKKQDPPV, Predicted class: 2\n",
            "Sequence: RVGSASSEPKSSCSVQSYSKPSMSGDSSPKASSTSK, Predicted class: 2\n",
            "Sequence: QPSASNCEKMSSYRPSLPSMSKGVPSSRSKSSPPYQ, Predicted class: 2\n"
          ]
        }
      ]
    },
    {
      "cell_type": "code",
      "source": [],
      "metadata": {
        "id": "SOLOeO7UFZuy"
      },
      "execution_count": null,
      "outputs": []
    }
  ]
}